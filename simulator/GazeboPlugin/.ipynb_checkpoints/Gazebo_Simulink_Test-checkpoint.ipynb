{
 "cells": [
  {
   "cell_type": "code",
   "execution_count": 9,
   "metadata": {},
   "outputs": [],
   "source": [
    "def I(l, w, h, m):\n",
    "    c = (1/12)*m\n",
    "    il = c*(w**2 + h**2)\n",
    "    iw = c*(l**2 + h**2)\n",
    "    ih = c*(w**2 + l**2)\n",
    "    return [il, iw, ih]"
   ]
  },
  {
   "cell_type": "code",
   "execution_count": 10,
   "metadata": {},
   "outputs": [],
   "source": [
    "def d1(vf, v0, t):\n",
    "    return .5*(vf+v0)*t"
   ]
  },
  {
   "cell_type": "code",
   "execution_count": 11,
   "metadata": {},
   "outputs": [],
   "source": [
    "def d2(x0, v0, F, m, t):\n",
    "    return x0 + v0 + ((F/2*m)*t**2)"
   ]
  },
  {
   "cell_type": "code",
   "execution_count": 12,
   "metadata": {},
   "outputs": [],
   "source": [
    "def vf(v0, a, t):\n",
    "    return v0 + a*t"
   ]
  },
  {
   "cell_type": "code",
   "execution_count": 13,
   "metadata": {},
   "outputs": [],
   "source": [
    "def a(F, m):\n",
    "    return F/m"
   ]
  },
  {
   "cell_type": "code",
   "execution_count": 66,
   "metadata": {},
   "outputs": [],
   "source": [
    "def test(F, m, t, d):\n",
    "    exp_dist = d\n",
    "    theor_dist1 = d1(vf(0, a(F, m), t), 0.0, t)\n",
    "    theor_dist2 = d2(0, 0, F, m, t)\n",
    "    print(exp_dist)\n",
    "    print(theor_dist1)\n",
    "    print(theor_dist2)\n",
    "    diff = (1-(theor_dist1 + theor_dist2) / (2*exp_dist))\n",
    "    print(diff)\n",
    "    if(abs(diff) < .05):\n",
    "        print(\"passed.\")\n",
    "    else:\n",
    "        print(\"failed.\")"
   ]
  },
  {
   "cell_type": "code",
   "execution_count": 65,
   "metadata": {},
   "outputs": [
    {
     "data": {
      "text/plain": [
       "3"
      ]
     },
     "execution_count": 65,
     "metadata": {},
     "output_type": "execute_result"
    }
   ],
   "source": [
    "abs(-3)"
   ]
  },
  {
   "cell_type": "code",
   "execution_count": null,
   "metadata": {},
   "outputs": [],
   "source": []
  },
  {
   "cell_type": "code",
   "execution_count": 53,
   "metadata": {},
   "outputs": [
    {
     "name": "stdout",
     "output_type": "stream",
     "text": [
      "passed.\n"
     ]
    }
   ],
   "source": [
    "test(F=7.94, m=1.0, t=4.3, d=73.92)"
   ]
  },
  {
   "cell_type": "code",
   "execution_count": null,
   "metadata": {},
   "outputs": [],
   "source": []
  },
  {
   "cell_type": "code",
   "execution_count": 34,
   "metadata": {},
   "outputs": [
    {
     "name": "stdout",
     "output_type": "stream",
     "text": [
      "unit box inertia tensor: [0.25, 0.25, 0.25]\n",
      "uav box inertia tensor:  [0.029124999999999998, 0.029124999999999998, 0.055224999999999996]\n"
     ]
    }
   ],
   "source": [
    "print(\"unit box inertia tensor: \" + str(I(1.0, 1.0, 1.0, 1.5)))\n",
    "print(\"uav box inertia tensor:  \" + str(I(.47, .47, .11, 1.5)))"
   ]
  },
  {
   "cell_type": "markdown",
   "metadata": {},
   "source": [
    "### unit box test 1\n",
    "- m = 1.0, l = 1.0, w = 1.0, h = 1.0\n",
    "- I = [.166, .166, .166]\n",
    "- F = 7.94\n",
    "- t = 4.3"
   ]
  },
  {
   "cell_type": "code",
   "execution_count": 67,
   "metadata": {},
   "outputs": [
    {
     "name": "stdout",
     "output_type": "stream",
     "text": [
      "unit box inertia tensor: [0.16666666666666666, 0.16666666666666666, 0.16666666666666666]\n",
      "73.92\n",
      "73.4053\n",
      "73.4053\n",
      "0.006962932900432928\n",
      "passed.\n"
     ]
    }
   ],
   "source": [
    "print(\"unit box inertia tensor: \" + str(I(1.0, 1.0, 1.0, 1.0)))\n",
    "test(F=7.94, m=1.0, t=4.3, d=73.92)"
   ]
  },
  {
   "cell_type": "markdown",
   "metadata": {},
   "source": [
    "### unit box test 2\n",
    "- m = 1.5, l = 1.0, w = 1.0, h = 1.0\n",
    "- I = [.25, .25, .25]\n",
    "- F = 7.94\n",
    "- t = 4.3"
   ]
  },
  {
   "cell_type": "code",
   "execution_count": 68,
   "metadata": {},
   "outputs": [
    {
     "name": "stdout",
     "output_type": "stream",
     "text": [
      "unit box inertia tensor: [0.25, 0.25, 0.25]\n",
      "19.24\n",
      "48.936866666666674\n",
      "110.10794999999999\n",
      "-3.133181306306306\n"
     ]
    }
   ],
   "source": [
    "print(\"unit box inertia tensor: \" + str(I(1.0, 1.0, 1.0, 1.5)))\n",
    "test(F=7.94, m=1.5, t=4.3, d=19.24)"
   ]
  },
  {
   "cell_type": "markdown",
   "metadata": {},
   "source": [
    "### unit box test 3\n",
    "- m = 1.5, l = .47, w = .47, h = .11\n",
    "- I = [.25, .25, .25]\n",
    "- F = 7.94\n",
    "- t = 4.3"
   ]
  },
  {
   "cell_type": "code",
   "execution_count": 57,
   "metadata": {},
   "outputs": [
    {
     "name": "stdout",
     "output_type": "stream",
     "text": [
      "unit box inertia tensor: [0.029124999999999998, 0.029124999999999998, 0.055224999999999996]\n",
      "passed.\n"
     ]
    }
   ],
   "source": [
    "print(\"unit box inertia tensor: \" + str(I(.47, .47, .11, 1.5)))\n",
    "test(F=7.94, m=1.5, t=4.3, d=39.24)"
   ]
  },
  {
   "cell_type": "code",
   "execution_count": null,
   "metadata": {},
   "outputs": [],
   "source": []
  },
  {
   "cell_type": "code",
   "execution_count": null,
   "metadata": {},
   "outputs": [],
   "source": []
  }
 ],
 "metadata": {
  "kernelspec": {
   "display_name": "Python 3",
   "language": "python",
   "name": "python3"
  },
  "language_info": {
   "codemirror_mode": {
    "name": "ipython",
    "version": 3
   },
   "file_extension": ".py",
   "mimetype": "text/x-python",
   "name": "python",
   "nbconvert_exporter": "python",
   "pygments_lexer": "ipython3",
   "version": "3.6.9"
  }
 },
 "nbformat": 4,
 "nbformat_minor": 4
}
