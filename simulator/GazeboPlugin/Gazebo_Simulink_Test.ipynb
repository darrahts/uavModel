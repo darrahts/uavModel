{
 "cells": [
  {
   "cell_type": "markdown",
   "metadata": {},
   "source": [
    "## physics formulas"
   ]
  },
  {
   "cell_type": "code",
   "execution_count": 1,
   "metadata": {},
   "outputs": [],
   "source": [
    "def I(l, w, h, m):\n",
    "    \"\"\"\n",
    "        inertia tensor\n",
    "    \"\"\"\n",
    "    c = (1/12)*m\n",
    "    il = c*(w**2 + h**2)\n",
    "    iw = c*(l**2 + h**2)\n",
    "    ih = c*(w**2 + l**2)\n",
    "    return [il, iw, ih]"
   ]
  },
  {
   "cell_type": "code",
   "execution_count": 2,
   "metadata": {},
   "outputs": [],
   "source": [
    "def d1(vf, v0, t):\n",
    "    \"\"\"\n",
    "        distance calculation with constant acceleration\n",
    "    \"\"\"\n",
    "    return .5*(vf+v0)*t"
   ]
  },
  {
   "cell_type": "code",
   "execution_count": 3,
   "metadata": {},
   "outputs": [],
   "source": [
    "def d2(x0, v0, F, m, t):\n",
    "    \"\"\"\n",
    "        distance calculation with initial conditions\n",
    "    \"\"\"\n",
    "    return x0 + v0 + ((F/2*m)*t**2)"
   ]
  },
  {
   "cell_type": "code",
   "execution_count": 4,
   "metadata": {},
   "outputs": [],
   "source": [
    "def d3(v0, a, t):\n",
    "    \"\"\"\n",
    "        distance calculation with time and acceleration\n",
    "    \"\"\"\n",
    "    return v0*t + (.5*a*t**2)"
   ]
  },
  {
   "cell_type": "code",
   "execution_count": 5,
   "metadata": {},
   "outputs": [],
   "source": [
    "def vf(v0, a, t):\n",
    "    \"\"\"\n",
    "        velocity calculation\n",
    "    \"\"\"\n",
    "    return v0 + a*t"
   ]
  },
  {
   "cell_type": "code",
   "execution_count": 6,
   "metadata": {},
   "outputs": [],
   "source": [
    "def a(F, m):\n",
    "    \"\"\"\n",
    "        acceleration calculation\n",
    "    \"\"\"\n",
    "    return F/m"
   ]
  },
  {
   "cell_type": "code",
   "execution_count": 7,
   "metadata": {},
   "outputs": [],
   "source": [
    "def test(F, m, t, d):\n",
    "    exp_dist = d\n",
    "    theor_dist1 = d1(vf(0, a(F, m), t), 0.0, t)\n",
    "    theor_dist2 = d2(0, 0, F, m, t)\n",
    "    theor_dist3 = d3(0, a(F, m), t)\n",
    "    print(\"simulated distance: \" + str(exp_dist))\n",
    "    print(\"calculated distance 1: \" + str(theor_dist1))\n",
    "    print(\"calculated distance 2: \" + str(theor_dist2))\n",
    "    print(\"calculated distance 3: \" + str(theor_dist3))\n",
    "    diff1 = abs(1-(theor_dist1/exp_dist))\n",
    "    diff2 = abs(1-(theor_dist2/exp_dist))\n",
    "    diff3 = abs(1-(theor_dist3/exp_dist))\n",
    "    print(\"error1: \" + str(diff1))\n",
    "    print(\"error2: \" + str(diff2))\n",
    "    print(\"error3: \" + str(diff3))\n",
    "    if(diff1 < .05):\n",
    "        print(\"passed.\")\n",
    "    else:\n",
    "        print(\"failed.\")"
   ]
  },
  {
   "cell_type": "markdown",
   "metadata": {},
   "source": [
    "## unit box test 1\n",
    "- m = 1.0, l = 1.0, w = 1.0, h = 1.0\n",
    "- I = [.166, .166, .166]\n",
    "- F = 7.94\n",
    "- t = 4.3"
   ]
  },
  {
   "cell_type": "code",
   "execution_count": 8,
   "metadata": {},
   "outputs": [
    {
     "name": "stdout",
     "output_type": "stream",
     "text": [
      "unit box inertia tensor: [0.16666666666666666, 0.16666666666666666, 0.16666666666666666]\n",
      "simulated distance: 73.92\n",
      "calculated distance 1: 73.4053\n",
      "calculated distance 2: 73.4053\n",
      "calculated distance 3: 73.4053\n",
      "error1: 0.006962932900432928\n",
      "error2: 0.006962932900432928\n",
      "error3: 0.006962932900432928\n",
      "passed.\n"
     ]
    }
   ],
   "source": [
    "print(\"unit box inertia tensor: \" + str(I(1.0, 1.0, 1.0, 1.0)))\n",
    "test(F=7.94, m=1.0, t=4.3, d=73.92) # d is experimental distance calculated from the simulation"
   ]
  },
  {
   "cell_type": "markdown",
   "metadata": {},
   "source": [
    "## unit box test 2\n",
    "- m = 1.5, l = 1.0, w = 1.0, h = 1.0\n",
    "- I = [.25, .25, .25]\n",
    "- F = 7.94\n",
    "- t = 4.3"
   ]
  },
  {
   "cell_type": "code",
   "execution_count": 9,
   "metadata": {},
   "outputs": [
    {
     "name": "stdout",
     "output_type": "stream",
     "text": [
      "unit box inertia tensor: [0.25, 0.25, 0.25]\n",
      "simulated distance: 19.24\n",
      "calculated distance 1: 48.936866666666674\n",
      "calculated distance 2: 110.10794999999999\n",
      "calculated distance 3: 48.93686666666667\n",
      "error1: 1.543496188496189\n",
      "error2: 4.7228664241164235\n",
      "error3: 1.5434961884961886\n",
      "failed.\n"
     ]
    }
   ],
   "source": [
    "print(\"unit box inertia tensor: \" + str(I(1.0, 1.0, 1.0, 1.5)))\n",
    "test(F=7.94, m=1.5, t=4.3, d=19.24) # d is experimental distance calculated from the simulation"
   ]
  },
  {
   "cell_type": "markdown",
   "metadata": {},
   "source": [
    "### unit box test 3  (uav parameters)\n",
    "- m = 1.5, l = .47, w = .47, h = .11\n",
    "- I = [.25, .25, .25]\n",
    "- F = 7.94\n",
    "- t = 4.3"
   ]
  },
  {
   "cell_type": "code",
   "execution_count": 10,
   "metadata": {},
   "outputs": [],
   "source": [
    "# todo"
   ]
  },
  {
   "cell_type": "code",
   "execution_count": null,
   "metadata": {},
   "outputs": [],
   "source": []
  },
  {
   "cell_type": "code",
   "execution_count": null,
   "metadata": {},
   "outputs": [],
   "source": []
  }
 ],
 "metadata": {
  "kernelspec": {
   "display_name": "Python 3",
   "language": "python",
   "name": "python3"
  },
  "language_info": {
   "codemirror_mode": {
    "name": "ipython",
    "version": 3
   },
   "file_extension": ".py",
   "mimetype": "text/x-python",
   "name": "python",
   "nbconvert_exporter": "python",
   "pygments_lexer": "ipython3",
   "version": "3.6.9"
  }
 },
 "nbformat": 4,
 "nbformat_minor": 4
}
